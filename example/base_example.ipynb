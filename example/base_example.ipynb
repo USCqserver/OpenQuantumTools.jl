{
  "cells": [
    {
      "cell_type": "markdown",
      "source": [
        "# A simple example for QTool package"
      ],
      "metadata": {}
    },
    {
      "cell_type": "code",
      "source": [
        "using QTool"
      ],
      "outputs": [],
      "execution_count": 1,
      "metadata": {
        "collapsed": false,
        "outputHidden": false,
        "inputHidden": false
      }
    },
    {
      "cell_type": "markdown",
      "source": [
        "## Pauli matrices and tensor product"
      ],
      "metadata": {}
    },
    {
      "cell_type": "code",
      "source": [
        "σx⊗σz"
      ],
      "outputs": [
        {
          "output_type": "execute_result",
          "execution_count": 3,
          "data": {
            "text/plain": [
              "4×4 Array{Complex{Float64},2}:\n",
              " 0.0+0.0im   0.0+0.0im  1.0+0.0im   0.0+0.0im\n",
              " 0.0+0.0im  -0.0+0.0im  0.0+0.0im  -1.0+0.0im\n",
              " 1.0+0.0im   0.0+0.0im  0.0+0.0im   0.0+0.0im\n",
              " 0.0+0.0im  -1.0+0.0im  0.0+0.0im  -0.0+0.0im"
            ]
          },
          "metadata": {}
        }
      ],
      "execution_count": 3,
      "metadata": {
        "collapsed": false,
        "outputHidden": false,
        "inputHidden": false
      }
    },
    {
      "cell_type": "code",
      "source": [],
      "outputs": [],
      "execution_count": null,
      "metadata": {
        "collapsed": false,
        "outputHidden": false,
        "inputHidden": false
      }
    }
  ],
  "metadata": {
    "kernel_info": {
      "name": "julia-0.6"
    },
    "language_info": {
      "file_extension": ".jl",
      "name": "julia",
      "mimetype": "application/julia",
      "version": "0.6.3"
    },
    "kernelspec": {
      "name": "julia-0.6",
      "language": "julia",
      "display_name": "Julia 0.6.3"
    },
    "nteract": {
      "version": "0.9.1"
    }
  },
  "nbformat": 4,
  "nbformat_minor": 4
}